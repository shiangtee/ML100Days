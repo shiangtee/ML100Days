{
 "cells": [
  {
   "cell_type": "markdown",
   "metadata": {},
   "source": [
    "    我認為在股票投資這個領域試機器學習可以發光發熱的原因。\n",
    "    因為股票投資需要透過大量的資訊分析來預測未來股價的走勢，才能進行決策。由於影響股價的面相太多，也就是因子太多，用傳統線性模型其實難以進行好的預測，同時因為因子太多，即使要用傳統統計手法進行分析也相當困難，此時機器學習一些end to end 的手法就可以幫助我們建立效能強大的模型來預測股價。此外，股票市場一直以來都有各種統計的數據留存，換句話說，就是有足夠的資料來進行建模，這是這個領域一大優勢(做研究最怕的就是沒有足夠的Data來Study)。我們可以透過回歸來預測股價，可以透過非監督式學習來找出有相關性的類股，可以用強化學習來決定股票的買賣策略，有很多方面可以透過機器學習來實現，因此我認為股票投資會試機器學習可以發光發熱的一個領域。"
   ]
  }
 ],
 "metadata": {
  "kernelspec": {
   "display_name": "Python 3",
   "language": "python",
   "name": "python3"
  },
  "language_info": {
   "codemirror_mode": {
    "name": "ipython",
    "version": 3
   },
   "file_extension": ".py",
   "mimetype": "text/x-python",
   "name": "python",
   "nbconvert_exporter": "python",
   "pygments_lexer": "ipython3",
   "version": "3.6.8"
  }
 },
 "nbformat": 4,
 "nbformat_minor": 2
}
