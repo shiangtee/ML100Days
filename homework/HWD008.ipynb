{
 "cells": [
  {
   "cell_type": "markdown",
   "metadata": {},
   "source": [
    "# [作業目標]\n",
    "對資料做更多處理 : 顯示特定欄位的統計值與直方圖\n",
    "# [作業重點]\n",
    "試著顯示特定欄位的基礎統計數值 (In[4], Out[4], Hint : describe())\n",
    "試著顯示特定欄位的直方圖 (In[5], Out[5], Hint : .hist())"
   ]
  },
  {
   "cell_type": "code",
   "execution_count": 2,
   "metadata": {},
   "outputs": [],
   "source": [
    "# Import 需要的套件\n",
    "import os\n",
    "import numpy as np\n",
    "import pandas as pd\n",
    "\n",
    "# 設定 data_path\n",
    "dir_data = \"D:\\shiang\\MyCode\\Github\\data\\HW008\"\n",
    "\n",
    "\n",
    "f_app_train = os.path.join(dir_data, 'application_train.csv')\n",
    "app_train = pd.read_csv(f_app_train)"
   ]
  },
  {
   "cell_type": "code",
   "execution_count": 3,
   "metadata": {},
   "outputs": [],
   "source": [
    "import matplotlib.pyplot as plt\n",
    "%matplotlib inline"
   ]
  },
  {
   "cell_type": "markdown",
   "metadata": {},
   "source": [
    "# 練習時間\n",
    "觀察有興趣的欄位的資料分佈，並嘗試找出有趣的訊息\n",
    "\n",
    "# Eg\n",
    "計算任意欄位的平均數及標準差\n",
    "畫出任意欄位的直方圖 "
   ]
  },
  {
   "cell_type": "markdown",
   "metadata": {},
   "source": [
    "### 確認 data 的 基本資訊"
   ]
  },
  {
   "cell_type": "code",
   "execution_count": 101,
   "metadata": {},
   "outputs": [
    {
     "name": "stdout",
     "output_type": "stream",
     "text": [
      "(307511, 122)\n"
     ]
    }
   ],
   "source": [
    "# data shape\n",
    "print(app_train.shape)\n"
   ]
  },
  {
   "cell_type": "markdown",
   "metadata": {},
   "source": [
    "### 定義檢查資料類型的 Function"
   ]
  },
  {
   "cell_type": "code",
   "execution_count": 102,
   "metadata": {},
   "outputs": [],
   "source": [
    "# check data type\n",
    "def inspect_data_type(df):\n",
    "    dtype_df = df.dtypes.reset_index()\n",
    "    dtype_df.columns = [\"Count\", \"Column Type\"]\n",
    "    dtype_df = dtype_df.groupby(\"Column Type\").aggregate('count').reset_index()\n",
    "    return dtype_df\n"
   ]
  },
  {
   "cell_type": "markdown",
   "metadata": {},
   "source": [
    "### 執行定義好的 Function，確認 Data 個欄位的資料格式"
   ]
  },
  {
   "cell_type": "code",
   "execution_count": 103,
   "metadata": {},
   "outputs": [
    {
     "data": {
      "text/html": [
       "<div>\n",
       "<style scoped>\n",
       "    .dataframe tbody tr th:only-of-type {\n",
       "        vertical-align: middle;\n",
       "    }\n",
       "\n",
       "    .dataframe tbody tr th {\n",
       "        vertical-align: top;\n",
       "    }\n",
       "\n",
       "    .dataframe thead th {\n",
       "        text-align: right;\n",
       "    }\n",
       "</style>\n",
       "<table border=\"1\" class=\"dataframe\">\n",
       "  <thead>\n",
       "    <tr style=\"text-align: right;\">\n",
       "      <th></th>\n",
       "      <th>Column Type</th>\n",
       "      <th>Count</th>\n",
       "    </tr>\n",
       "  </thead>\n",
       "  <tbody>\n",
       "    <tr>\n",
       "      <th>0</th>\n",
       "      <td>int64</td>\n",
       "      <td>41</td>\n",
       "    </tr>\n",
       "    <tr>\n",
       "      <th>1</th>\n",
       "      <td>float64</td>\n",
       "      <td>65</td>\n",
       "    </tr>\n",
       "    <tr>\n",
       "      <th>2</th>\n",
       "      <td>object</td>\n",
       "      <td>16</td>\n",
       "    </tr>\n",
       "  </tbody>\n",
       "</table>\n",
       "</div>"
      ],
      "text/plain": [
       "  Column Type  Count\n",
       "0       int64     41\n",
       "1     float64     65\n",
       "2      object     16"
      ]
     },
     "execution_count": 103,
     "metadata": {},
     "output_type": "execute_result"
    }
   ],
   "source": [
    "inspect_data_type(app_train)\n"
   ]
  },
  {
   "cell_type": "markdown",
   "metadata": {},
   "source": [
    "### 找出 int/floae type 的欄位(比較適合計算統計量跟畫直方圖)"
   ]
  },
  {
   "cell_type": "code",
   "execution_count": 35,
   "metadata": {},
   "outputs": [],
   "source": [
    "# Get colum where data type is floa or int\n",
    "int_features = []\n",
    "float_features = []\n",
    "for dtype, feature in zip(app_train.dtypes,app_train.columns):\n",
    "    if dtype == 'float64':\n",
    "        float_features.append(feature)\n",
    "    elif dtype == 'int64':\n",
    "        int_features.append(feature)\n"
   ]
  },
  {
   "cell_type": "markdown",
   "metadata": {},
   "source": [
    "### 確認 int type 的欄有幾種數字類別"
   ]
  },
  {
   "cell_type": "code",
   "execution_count": 98,
   "metadata": {},
   "outputs": [
    {
     "data": {
      "text/plain": [
       "SK_ID_CURR                     307511\n",
       "TARGET                              2\n",
       "CNT_CHILDREN                       15\n",
       "DAYS_BIRTH                      17460\n",
       "DAYS_EMPLOYED                   12574\n",
       "DAYS_ID_PUBLISH                  6168\n",
       "FLAG_MOBIL                          2\n",
       "FLAG_EMP_PHONE                      2\n",
       "FLAG_WORK_PHONE                     2\n",
       "FLAG_CONT_MOBILE                    2\n",
       "FLAG_PHONE                          2\n",
       "FLAG_EMAIL                          2\n",
       "REGION_RATING_CLIENT                3\n",
       "REGION_RATING_CLIENT_W_CITY         3\n",
       "HOUR_APPR_PROCESS_START            24\n",
       "REG_REGION_NOT_LIVE_REGION          2\n",
       "REG_REGION_NOT_WORK_REGION          2\n",
       "LIVE_REGION_NOT_WORK_REGION         2\n",
       "REG_CITY_NOT_LIVE_CITY              2\n",
       "REG_CITY_NOT_WORK_CITY              2\n",
       "LIVE_CITY_NOT_WORK_CITY             2\n",
       "FLAG_DOCUMENT_2                     2\n",
       "FLAG_DOCUMENT_3                     2\n",
       "FLAG_DOCUMENT_4                     2\n",
       "FLAG_DOCUMENT_5                     2\n",
       "FLAG_DOCUMENT_6                     2\n",
       "FLAG_DOCUMENT_7                     2\n",
       "FLAG_DOCUMENT_8                     2\n",
       "FLAG_DOCUMENT_9                     2\n",
       "FLAG_DOCUMENT_10                    2\n",
       "FLAG_DOCUMENT_11                    2\n",
       "FLAG_DOCUMENT_12                    2\n",
       "FLAG_DOCUMENT_13                    2\n",
       "FLAG_DOCUMENT_14                    2\n",
       "FLAG_DOCUMENT_15                    2\n",
       "FLAG_DOCUMENT_16                    2\n",
       "FLAG_DOCUMENT_17                    2\n",
       "FLAG_DOCUMENT_18                    2\n",
       "FLAG_DOCUMENT_19                    2\n",
       "FLAG_DOCUMENT_20                    2\n",
       "FLAG_DOCUMENT_21                    2\n",
       "dtype: int64"
      ]
     },
     "execution_count": 98,
     "metadata": {},
     "output_type": "execute_result"
    }
   ],
   "source": [
    "### 挑選適合的 Coulun 來畫直方圖\n",
    "# for col in app_train[float_features].columns:\n",
    "#     print(col)\n",
    "#app_train[int_features].head()\n",
    "app_train[int_features].nunique()"
   ]
  },
  {
   "cell_type": "markdown",
   "metadata": {},
   "source": [
    "\"HOUR_APPR_PROCESS_START\" 欄位的數值有24個種類，看起來較適合畫直方圖\n",
    "--> 以該欄位來計算 Mean/Stdev 以及畫直方圖"
   ]
  },
  {
   "cell_type": "markdown",
   "metadata": {},
   "source": [
    "### 計算 Mean 跟 Stdev"
   ]
  },
  {
   "cell_type": "code",
   "execution_count": 107,
   "metadata": {},
   "outputs": [
    {
     "data": {
      "text/html": [
       "<div>\n",
       "<style scoped>\n",
       "    .dataframe tbody tr th:only-of-type {\n",
       "        vertical-align: middle;\n",
       "    }\n",
       "\n",
       "    .dataframe tbody tr th {\n",
       "        vertical-align: top;\n",
       "    }\n",
       "\n",
       "    .dataframe thead th {\n",
       "        text-align: right;\n",
       "    }\n",
       "</style>\n",
       "<table border=\"1\" class=\"dataframe\">\n",
       "  <thead>\n",
       "    <tr style=\"text-align: right;\">\n",
       "      <th></th>\n",
       "      <th>Column Name</th>\n",
       "      <th>Mean</th>\n",
       "      <th>Stdev</th>\n",
       "    </tr>\n",
       "  </thead>\n",
       "  <tbody>\n",
       "    <tr>\n",
       "      <th>0</th>\n",
       "      <td>HOUR_APPR_PROCESS_START</td>\n",
       "      <td>12.063419</td>\n",
       "      <td>3.265832</td>\n",
       "    </tr>\n",
       "  </tbody>\n",
       "</table>\n",
       "</div>"
      ],
      "text/plain": [
       "               Column Name       Mean     Stdev\n",
       "0  HOUR_APPR_PROCESS_START  12.063419  3.265832"
      ]
     },
     "execution_count": 107,
     "metadata": {},
     "output_type": "execute_result"
    }
   ],
   "source": [
    "### AMT_INCOME_TOTAL 欄位的 mean & stdev\n",
    "target_inf = {'Column Name':[\"HOUR_APPR_PROCESS_START\"],'Mean':[df_tmp.mean()],'Stdev':[df_tmp.std()]}\n",
    "answer = pd.DataFrame.from_dict(target_inf)\n",
    "answer"
   ]
  },
  {
   "cell_type": "markdown",
   "metadata": {},
   "source": [
    "### 畫直方圖\n",
    "方法一 (使用 pandas 內建 hist)"
   ]
  },
  {
   "cell_type": "code",
   "execution_count": 93,
   "metadata": {},
   "outputs": [
    {
     "data": {
      "text/plain": [
       "<matplotlib.axes._subplots.AxesSubplot at 0x230a1c86f28>"
      ]
     },
     "execution_count": 93,
     "metadata": {},
     "output_type": "execute_result"
    },
    {
     "data": {
      "image/png": "[encoded data removed]",
      "text/plain": [
       "<Figure size 432x288 with 1 Axes>"
      ]
     },
     "metadata": {
      "needs_background": "light"
     },
     "output_type": "display_data"
    }
   ],
   "source": [
    "df_tmp = app_train[\"HOUR_APPR_PROCESS_START\"]\n",
    "df_tmp.hist()"
   ]
  },
  {
   "cell_type": "markdown",
   "metadata": {},
   "source": [
    "方法二 (使用matplotlib)"
   ]
  },
  {
   "cell_type": "code",
   "execution_count": 99,
   "metadata": {},
   "outputs": [
    {
     "data": {
      "text/plain": [
       "(array([  431.,  3320.,  9480., 51642., 74951., 65192., 72906., 23949.,\n",
       "         5044.,   596.]),\n",
       " array([ 0. ,  2.3,  4.6,  6.9,  9.2, 11.5, 13.8, 16.1, 18.4, 20.7, 23. ]),\n",
       " <a list of 10 Patch objects>)"
      ]
     },
     "execution_count": 99,
     "metadata": {},
     "output_type": "execute_result"
    },
    {
     "data": {
      "image/png": "[encoded data removed]",
      "text/plain": [
       "<Figure size 432x288 with 1 Axes>"
      ]
     },
     "metadata": {
      "needs_background": "light"
     },
     "output_type": "display_data"
    }
   ],
   "source": [
    "#plt.hist(app_train[float_features[0]],bin=range(20000,120000000,10000000))\n",
    "plt.hist(df_tmp)"
   ]
  }
 ],
 "metadata": {
  "kernelspec": {
   "display_name": "Python 3",
   "language": "python",
   "name": "python3"
  },
  "language_info": {
   "codemirror_mode": {
    "name": "ipython",
    "version": 3
   },
   "file_extension": ".py",
   "mimetype": "text/x-python",
   "name": "python",
   "nbconvert_exporter": "python",
   "pygments_lexer": "ipython3",
   "version": "3.6.8"
  }
 },
 "nbformat": 4,
 "nbformat_minor": 2
}
